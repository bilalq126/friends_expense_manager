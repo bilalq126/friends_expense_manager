{
 "cells": [
  {
   "cell_type": "code",
   "execution_count": 3,
   "id": "731369e7",
   "metadata": {},
   "outputs": [
    {
     "name": "stdout",
     "output_type": "stream",
     "text": [
      "Collecting setuptools\n",
      "  Using cached setuptools-80.9.0-py3-none-any.whl.metadata (6.6 kB)\n",
      "Using cached setuptools-80.9.0-py3-none-any.whl (1.2 MB)\n",
      "Installing collected packages: setuptools\n",
      "Successfully installed setuptools-80.9.0\n",
      "Note: you may need to restart the kernel to use updated packages.\n"
     ]
    },
    {
     "name": "stderr",
     "output_type": "stream",
     "text": [
      "\n",
      "[notice] A new release of pip is available: 25.1.1 -> 25.2\n",
      "[notice] To update, run: python.exe -m pip install --upgrade pip\n"
     ]
    }
   ],
   "source": [
    "pip install setuptools"
   ]
  },
  {
   "cell_type": "code",
   "execution_count": 1,
   "id": "9ce5aaf3",
   "metadata": {},
   "outputs": [
    {
     "name": "stdout",
     "output_type": "stream",
     "text": [
      "Collecting firebase-admin\n",
      "  Downloading firebase_admin-7.1.0-py3-none-any.whl.metadata (1.7 kB)\n",
      "Collecting cachecontrol>=0.14.3 (from firebase-admin)\n",
      "  Downloading cachecontrol-0.14.3-py3-none-any.whl.metadata (3.1 kB)\n",
      "Collecting google-api-core<3.0.0dev,>=2.25.1 (from google-api-core[grpc]<3.0.0dev,>=2.25.1; platform_python_implementation != \"PyPy\"->firebase-admin)\n",
      "  Downloading google_api_core-2.25.1-py3-none-any.whl.metadata (3.0 kB)\n",
      "Collecting google-cloud-firestore>=2.21.0 (from firebase-admin)\n",
      "  Downloading google_cloud_firestore-2.21.0-py3-none-any.whl.metadata (9.9 kB)\n",
      "Collecting google-cloud-storage>=3.1.1 (from firebase-admin)\n",
      "  Downloading google_cloud_storage-3.3.0-py3-none-any.whl.metadata (13 kB)\n",
      "Collecting pyjwt>=2.10.1 (from pyjwt[crypto]>=2.10.1->firebase-admin)\n",
      "  Downloading PyJWT-2.10.1-py3-none-any.whl.metadata (4.0 kB)\n",
      "Requirement already satisfied: httpx==0.28.1 in c:\\users\\bilal qadeer\\appdata\\local\\programs\\python\\python313\\lib\\site-packages (from httpx[http2]==0.28.1->firebase-admin) (0.28.1)\n",
      "Requirement already satisfied: anyio in c:\\users\\bilal qadeer\\appdata\\local\\programs\\python\\python313\\lib\\site-packages (from httpx==0.28.1->httpx[http2]==0.28.1->firebase-admin) (4.9.0)\n",
      "Requirement already satisfied: certifi in c:\\users\\bilal qadeer\\appdata\\local\\programs\\python\\python313\\lib\\site-packages (from httpx==0.28.1->httpx[http2]==0.28.1->firebase-admin) (2025.7.9)\n",
      "Requirement already satisfied: httpcore==1.* in c:\\users\\bilal qadeer\\appdata\\local\\programs\\python\\python313\\lib\\site-packages (from httpx==0.28.1->httpx[http2]==0.28.1->firebase-admin) (1.0.9)\n",
      "Requirement already satisfied: idna in c:\\users\\bilal qadeer\\appdata\\local\\programs\\python\\python313\\lib\\site-packages (from httpx==0.28.1->httpx[http2]==0.28.1->firebase-admin) (3.10)\n",
      "Collecting h2<5,>=3 (from httpx[http2]==0.28.1->firebase-admin)\n",
      "  Downloading h2-4.2.0-py3-none-any.whl.metadata (5.1 kB)\n",
      "Requirement already satisfied: googleapis-common-protos<2.0.0,>=1.56.2 in c:\\users\\bilal qadeer\\appdata\\local\\programs\\python\\python313\\lib\\site-packages (from google-api-core<3.0.0dev,>=2.25.1->google-api-core[grpc]<3.0.0dev,>=2.25.1; platform_python_implementation != \"PyPy\"->firebase-admin) (1.70.0)\n",
      "Requirement already satisfied: protobuf!=3.20.0,!=3.20.1,!=4.21.0,!=4.21.1,!=4.21.2,!=4.21.3,!=4.21.4,!=4.21.5,<7.0.0,>=3.19.5 in c:\\users\\bilal qadeer\\appdata\\local\\programs\\python\\python313\\lib\\site-packages (from google-api-core<3.0.0dev,>=2.25.1->google-api-core[grpc]<3.0.0dev,>=2.25.1; platform_python_implementation != \"PyPy\"->firebase-admin) (6.31.1)\n",
      "Collecting proto-plus<2.0.0,>=1.22.3 (from google-api-core<3.0.0dev,>=2.25.1->google-api-core[grpc]<3.0.0dev,>=2.25.1; platform_python_implementation != \"PyPy\"->firebase-admin)\n",
      "  Downloading proto_plus-1.26.1-py3-none-any.whl.metadata (2.2 kB)\n",
      "Requirement already satisfied: google-auth<3.0.0,>=2.14.1 in c:\\users\\bilal qadeer\\appdata\\local\\programs\\python\\python313\\lib\\site-packages (from google-api-core<3.0.0dev,>=2.25.1->google-api-core[grpc]<3.0.0dev,>=2.25.1; platform_python_implementation != \"PyPy\"->firebase-admin) (2.40.3)\n",
      "Requirement already satisfied: requests<3.0.0,>=2.18.0 in c:\\users\\bilal qadeer\\appdata\\local\\programs\\python\\python313\\lib\\site-packages (from google-api-core<3.0.0dev,>=2.25.1->google-api-core[grpc]<3.0.0dev,>=2.25.1; platform_python_implementation != \"PyPy\"->firebase-admin) (2.32.4)\n",
      "Requirement already satisfied: grpcio<2.0.0,>=1.33.2 in c:\\users\\bilal qadeer\\appdata\\local\\programs\\python\\python313\\lib\\site-packages (from google-api-core[grpc]<3.0.0dev,>=2.25.1; platform_python_implementation != \"PyPy\"->firebase-admin) (1.74.0)\n",
      "Collecting grpcio-status<2.0.0,>=1.33.2 (from google-api-core[grpc]<3.0.0dev,>=2.25.1; platform_python_implementation != \"PyPy\"->firebase-admin)\n",
      "  Downloading grpcio_status-1.74.0-py3-none-any.whl.metadata (1.1 kB)\n",
      "Requirement already satisfied: cachetools<6.0,>=2.0.0 in c:\\users\\bilal qadeer\\appdata\\local\\programs\\python\\python313\\lib\\site-packages (from google-auth<3.0.0,>=2.14.1->google-api-core<3.0.0dev,>=2.25.1->google-api-core[grpc]<3.0.0dev,>=2.25.1; platform_python_implementation != \"PyPy\"->firebase-admin) (5.5.2)\n",
      "Requirement already satisfied: pyasn1-modules>=0.2.1 in c:\\users\\bilal qadeer\\appdata\\local\\programs\\python\\python313\\lib\\site-packages (from google-auth<3.0.0,>=2.14.1->google-api-core<3.0.0dev,>=2.25.1->google-api-core[grpc]<3.0.0dev,>=2.25.1; platform_python_implementation != \"PyPy\"->firebase-admin) (0.4.2)\n",
      "Requirement already satisfied: rsa<5,>=3.1.4 in c:\\users\\bilal qadeer\\appdata\\local\\programs\\python\\python313\\lib\\site-packages (from google-auth<3.0.0,>=2.14.1->google-api-core<3.0.0dev,>=2.25.1->google-api-core[grpc]<3.0.0dev,>=2.25.1; platform_python_implementation != \"PyPy\"->firebase-admin) (4.9.1)\n",
      "Collecting hyperframe<7,>=6.1 (from h2<5,>=3->httpx[http2]==0.28.1->firebase-admin)\n",
      "  Downloading hyperframe-6.1.0-py3-none-any.whl.metadata (4.3 kB)\n",
      "Collecting hpack<5,>=4.1 (from h2<5,>=3->httpx[http2]==0.28.1->firebase-admin)\n",
      "  Downloading hpack-4.1.0-py3-none-any.whl.metadata (4.6 kB)\n",
      "Requirement already satisfied: h11>=0.16 in c:\\users\\bilal qadeer\\appdata\\local\\programs\\python\\python313\\lib\\site-packages (from httpcore==1.*->httpx==0.28.1->httpx[http2]==0.28.1->firebase-admin) (0.16.0)\n",
      "Requirement already satisfied: charset_normalizer<4,>=2 in c:\\users\\bilal qadeer\\appdata\\local\\programs\\python\\python313\\lib\\site-packages (from requests<3.0.0,>=2.18.0->google-api-core<3.0.0dev,>=2.25.1->google-api-core[grpc]<3.0.0dev,>=2.25.1; platform_python_implementation != \"PyPy\"->firebase-admin) (3.4.2)\n",
      "Requirement already satisfied: urllib3<3,>=1.21.1 in c:\\users\\bilal qadeer\\appdata\\local\\programs\\python\\python313\\lib\\site-packages (from requests<3.0.0,>=2.18.0->google-api-core<3.0.0dev,>=2.25.1->google-api-core[grpc]<3.0.0dev,>=2.25.1; platform_python_implementation != \"PyPy\"->firebase-admin) (1.26.20)\n",
      "Requirement already satisfied: pyasn1>=0.1.3 in c:\\users\\bilal qadeer\\appdata\\local\\programs\\python\\python313\\lib\\site-packages (from rsa<5,>=3.1.4->google-auth<3.0.0,>=2.14.1->google-api-core<3.0.0dev,>=2.25.1->google-api-core[grpc]<3.0.0dev,>=2.25.1; platform_python_implementation != \"PyPy\"->firebase-admin) (0.6.1)\n",
      "Collecting msgpack<2.0.0,>=0.5.2 (from cachecontrol>=0.14.3->firebase-admin)\n",
      "  Downloading msgpack-1.1.1-cp313-cp313-win_amd64.whl.metadata (8.6 kB)\n",
      "Collecting google-cloud-core<3.0.0,>=1.4.1 (from google-cloud-firestore>=2.21.0->firebase-admin)\n",
      "  Downloading google_cloud_core-2.4.3-py2.py3-none-any.whl.metadata (2.7 kB)\n",
      "Collecting google-resumable-media<3.0.0,>=2.7.2 (from google-cloud-storage>=3.1.1->firebase-admin)\n",
      "  Downloading google_resumable_media-2.7.2-py2.py3-none-any.whl.metadata (2.2 kB)\n",
      "Collecting google-crc32c<2.0.0,>=1.1.3 (from google-cloud-storage>=3.1.1->firebase-admin)\n",
      "  Downloading google_crc32c-1.7.1-cp313-cp313-win_amd64.whl.metadata (2.4 kB)\n",
      "Requirement already satisfied: cryptography>=3.4.0 in c:\\users\\bilal qadeer\\appdata\\local\\programs\\python\\python313\\lib\\site-packages (from pyjwt[crypto]>=2.10.1->firebase-admin) (45.0.6)\n",
      "Requirement already satisfied: cffi>=1.14 in c:\\users\\bilal qadeer\\appdata\\local\\programs\\python\\python313\\lib\\site-packages (from cryptography>=3.4.0->pyjwt[crypto]>=2.10.1->firebase-admin) (1.17.1)\n",
      "Requirement already satisfied: pycparser in c:\\users\\bilal qadeer\\appdata\\local\\programs\\python\\python313\\lib\\site-packages (from cffi>=1.14->cryptography>=3.4.0->pyjwt[crypto]>=2.10.1->firebase-admin) (2.22)\n",
      "Requirement already satisfied: sniffio>=1.1 in c:\\users\\bilal qadeer\\appdata\\local\\programs\\python\\python313\\lib\\site-packages (from anyio->httpx==0.28.1->httpx[http2]==0.28.1->firebase-admin) (1.3.1)\n",
      "Downloading firebase_admin-7.1.0-py3-none-any.whl (137 kB)\n",
      "Downloading google_api_core-2.25.1-py3-none-any.whl (160 kB)\n",
      "Downloading grpcio_status-1.74.0-py3-none-any.whl (14 kB)\n",
      "Downloading h2-4.2.0-py3-none-any.whl (60 kB)\n",
      "Downloading hpack-4.1.0-py3-none-any.whl (34 kB)\n",
      "Downloading hyperframe-6.1.0-py3-none-any.whl (13 kB)\n",
      "Downloading proto_plus-1.26.1-py3-none-any.whl (50 kB)\n",
      "Downloading cachecontrol-0.14.3-py3-none-any.whl (21 kB)\n",
      "Downloading msgpack-1.1.1-cp313-cp313-win_amd64.whl (72 kB)\n",
      "Downloading google_cloud_firestore-2.21.0-py3-none-any.whl (368 kB)\n",
      "Downloading google_cloud_core-2.4.3-py2.py3-none-any.whl (29 kB)\n",
      "Downloading google_cloud_storage-3.3.0-py3-none-any.whl (274 kB)\n",
      "Downloading google_crc32c-1.7.1-cp313-cp313-win_amd64.whl (33 kB)\n",
      "Downloading google_resumable_media-2.7.2-py2.py3-none-any.whl (81 kB)\n",
      "Downloading PyJWT-2.10.1-py3-none-any.whl (22 kB)\n",
      "Installing collected packages: pyjwt, proto-plus, msgpack, hyperframe, hpack, google-crc32c, h2, grpcio-status, google-resumable-media, cachecontrol, google-api-core, google-cloud-core, google-cloud-storage, google-cloud-firestore, firebase-admin\n",
      "\n",
      "   ----------------------------------------  0/15 [pyjwt]\n",
      "   ----------------------------------------  0/15 [pyjwt]\n",
      "   -- -------------------------------------  1/15 [proto-plus]\n",
      "   -- -------------------------------------  1/15 [proto-plus]\n",
      "   -- -------------------------------------  1/15 [proto-plus]\n",
      "   ----- ----------------------------------  2/15 [msgpack]\n",
      "   -------- -------------------------------  3/15 [hyperframe]\n",
      "   ---------- -----------------------------  4/15 [hpack]\n",
      "   ------------- --------------------------  5/15 [google-crc32c]\n",
      "   ---------------- -----------------------  6/15 [h2]\n",
      "   ---------------- -----------------------  6/15 [h2]\n",
      "   ------------------ ---------------------  7/15 [grpcio-status]\n",
      "   --------------------- ------------------  8/15 [google-resumable-media]\n",
      "   --------------------- ------------------  8/15 [google-resumable-media]\n",
      "   --------------------- ------------------  8/15 [google-resumable-media]\n",
      "   ------------------------ ---------------  9/15 [cachecontrol]\n",
      "   ------------------------ ---------------  9/15 [cachecontrol]\n",
      "   -------------------------- ------------- 10/15 [google-api-core]\n",
      "   -------------------------- ------------- 10/15 [google-api-core]\n",
      "   -------------------------- ------------- 10/15 [google-api-core]\n",
      "   -------------------------- ------------- 10/15 [google-api-core]\n",
      "   -------------------------- ------------- 10/15 [google-api-core]\n",
      "   -------------------------- ------------- 10/15 [google-api-core]\n",
      "   -------------------------- ------------- 10/15 [google-api-core]\n",
      "   ----------------------------- ---------- 11/15 [google-cloud-core]\n",
      "   ----------------------------- ---------- 11/15 [google-cloud-core]\n",
      "   -------------------------------- ------- 12/15 [google-cloud-storage]\n",
      "   -------------------------------- ------- 12/15 [google-cloud-storage]\n",
      "   -------------------------------- ------- 12/15 [google-cloud-storage]\n",
      "   -------------------------------- ------- 12/15 [google-cloud-storage]\n",
      "   -------------------------------- ------- 12/15 [google-cloud-storage]\n",
      "   -------------------------------- ------- 12/15 [google-cloud-storage]\n",
      "   -------------------------------- ------- 12/15 [google-cloud-storage]\n",
      "   ---------------------------------- ----- 13/15 [google-cloud-firestore]\n",
      "   ---------------------------------- ----- 13/15 [google-cloud-firestore]\n",
      "   ---------------------------------- ----- 13/15 [google-cloud-firestore]\n",
      "   ---------------------------------- ----- 13/15 [google-cloud-firestore]\n",
      "   ---------------------------------- ----- 13/15 [google-cloud-firestore]\n",
      "   ---------------------------------- ----- 13/15 [google-cloud-firestore]\n",
      "   ---------------------------------- ----- 13/15 [google-cloud-firestore]\n",
      "   ---------------------------------- ----- 13/15 [google-cloud-firestore]\n",
      "   ---------------------------------- ----- 13/15 [google-cloud-firestore]\n",
      "   ---------------------------------- ----- 13/15 [google-cloud-firestore]\n",
      "   ---------------------------------- ----- 13/15 [google-cloud-firestore]\n",
      "   ---------------------------------- ----- 13/15 [google-cloud-firestore]\n",
      "   ---------------------------------- ----- 13/15 [google-cloud-firestore]\n",
      "   ------------------------------------- -- 14/15 [firebase-admin]\n",
      "   ------------------------------------- -- 14/15 [firebase-admin]\n",
      "   ------------------------------------- -- 14/15 [firebase-admin]\n",
      "   ------------------------------------- -- 14/15 [firebase-admin]\n",
      "   ------------------------------------- -- 14/15 [firebase-admin]\n",
      "   ---------------------------------------- 15/15 [firebase-admin]\n",
      "\n",
      "Successfully installed cachecontrol-0.14.3 firebase-admin-7.1.0 google-api-core-2.25.1 google-cloud-core-2.4.3 google-cloud-firestore-2.21.0 google-cloud-storage-3.3.0 google-crc32c-1.7.1 google-resumable-media-2.7.2 grpcio-status-1.74.0 h2-4.2.0 hpack-4.1.0 hyperframe-6.1.0 msgpack-1.1.1 proto-plus-1.26.1 pyjwt-2.10.1\n",
      "Note: you may need to restart the kernel to use updated packages.\n"
     ]
    },
    {
     "name": "stderr",
     "output_type": "stream",
     "text": [
      "\n",
      "[notice] A new release of pip is available: 25.1.1 -> 25.2\n",
      "[notice] To update, run: python.exe -m pip install --upgrade pip\n"
     ]
    }
   ],
   "source": [
    "pip install firebase-admin"
   ]
  }
 ],
 "metadata": {
  "kernelspec": {
   "display_name": "Python 3",
   "language": "python",
   "name": "python3"
  },
  "language_info": {
   "codemirror_mode": {
    "name": "ipython",
    "version": 3
   },
   "file_extension": ".py",
   "mimetype": "text/x-python",
   "name": "python",
   "nbconvert_exporter": "python",
   "pygments_lexer": "ipython3",
   "version": "3.13.5"
  }
 },
 "nbformat": 4,
 "nbformat_minor": 5
}
